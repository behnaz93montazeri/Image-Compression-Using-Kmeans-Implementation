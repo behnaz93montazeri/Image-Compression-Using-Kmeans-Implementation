{
 "cells": [
  {
   "cell_type": "code",
   "execution_count": null,
   "id": "9436d2b8",
   "metadata": {},
   "outputs": [],
   "source": [
    "import numpy as np\n",
    "import pandas as pd\n",
    "import matplotlib.pyplot as plt\n",
    "import seaborn as sns\n",
    "from sklearn.datasets import make_blobs\n",
    "\n",
    "%matplotlib inline"
   ]
  },
  {
   "cell_type": "markdown",
   "id": "7f48960c",
   "metadata": {},
   "source": [
    "<a name=\"1\"></a>\n",
    "## 1 - Implementing K-means\n",
    "\n",
    "The K-means algorithm is a method to automatically cluster similar\n",
    "data points together. \n",
    "\n",
    "* Concretely, given a dataset $\\{x^{(1)}, ..., x^{(m)}\\}$, I want\n",
    "to group the data into a few cohesive “clusters”. \n",
    "\n",
    "\n",
    "* K-means is an iterative procedure that\n",
    "     * Starts by guessing the initial centroids, and then \n",
    "     * Refines this guess by \n",
    "         * Repeatedly assigning examples to their closest centroids, and then \n",
    "         * Recomputing the centroids based on the assignments.\n",
    "         \n",
    "\n",
    "* In pseudocode, the K-means algorithm is as follows:\n",
    "\n",
    "    ``` python\n",
    "    # Initialize centroids\n",
    "    # K is the number of clusters\n",
    "    centroids = kMeans_init_centroids(X, K)\n",
    "    \n",
    "    for iter in range(iterations):\n",
    "        # Cluster assignment step: \n",
    "        # Assign each data point to the closest centroid. \n",
    "        # idx[i] corresponds to the index of the centroid \n",
    "        # assigned to example i\n",
    "        idx = find_closest_centroids(X, centroids)\n",
    "\n",
    "        # Move centroid step: \n",
    "        # Compute means based on centroid assignments\n",
    "        centroids = compute_centroids(X, idx, K)\n",
    "    ```\n",
    "\n",
    "\n",
    "* The inner-loop of the algorithm repeatedly carries out two steps: \n",
    "    1. Assigning each example $x^{(i)}$ to its closest centroid, and\n",
    "    2. Recomputing the mean of each centroid using the points assigned to it. \n",
    "    \n",
    "    \n",
    "* The $K$-means algorithm will always converge to some final set of means for the centroids. \n",
    "\n",
    "* However, the converged solution may not always be ideal and depends on the initial setting of the centroids.\n",
    "    * Therefore, in practice the K-means algorithm is usually run a few times with different random initializations. \n",
    "    * One way to choose between these different solutions from different random initializations is to choose the one with the lowest cost function value (distortion).\n",
    "\n",
    "I will implement the two phases of the K-means algorithm separately\n",
    "in the next sections. "
   ]
  },
  {
   "cell_type": "markdown",
   "id": "882cdd1b",
   "metadata": {},
   "source": [
    "<a name=\"1.1\"></a>\n",
    "### 1.1 Finding closest centroids\n",
    "\n",
    "In the “cluster assignment” phase of the K-means algorithm, the\n",
    "algorithm assigns every example $x^{(i)}$ to its closest\n",
    "centroid, given the current positions of centroids. \n",
    "\n",
    "\n",
    "In function => `find_closest_centroids`. \n",
    "* This function takes the data matrix `X` and the locations of all\n",
    "centroids inside `centroids` \n",
    "* It should output a one-dimensional array `idx` (which has the same number of elements as `X`) that holds the index  of the closest centroid (a value in $\\{0,...,K-1\\}$, where $K$ is total number of centroids) to every training example . \n",
    "* Specifically, for every example $x^{(i)}$ I set\n",
    "$$c^{(i)} := j \\quad \\mathrm{that \\; minimizes} \\quad ||x^{(i)} - \\mu_j||^2,$$\n",
    "where \n",
    " * $c^{(i)}$ is the index of the centroid that is closest to $x^{(i)}$ , and \n",
    " * $\\mu_j$ is the position (value) of the $j$’th centroid.\n",
    " * $||x^{(i)} - \\mu_j||$ is the L2-norm"
   ]
  },
  {
   "cell_type": "code",
   "execution_count": null,
   "id": "337350ff",
   "metadata": {},
   "outputs": [],
   "source": [
    "def find_closest_centroids(X, centroids):\n",
    "    \"\"\"\n",
    "    Computes the centroid memberships for every example\n",
    "    \n",
    "    Args:\n",
    "        X (ndarray): (m, n) Input values      \n",
    "        centroids (ndarray): (K, n) centroids\n",
    "    \n",
    "    Returns:\n",
    "        idx (array_like): (m,) closest centroids\n",
    "    \n",
    "    \"\"\"\n",
    "\n",
    "    # Set K\n",
    "    K = centroids.shape[0]\n",
    "    idx = np.zeros(X.shape[0], dtype=int)\n",
    "\n",
    "    for i in range(len(X)):\n",
    "        minimum_dist = 1000\n",
    "        cluster_number = 0\n",
    "        for k_th in range(K):\n",
    "            compute_distance = np.sqrt(np.sum((X[i] - centroids[k_th]) ** 2))\n",
    "            if compute_distance <= minimum_dist:\n",
    "                minimum_dist = compute_distance\n",
    "                cluster_number = k_th\n",
    "        idx[i] = cluster_number    \n",
    "    return idx"
   ]
  },
  {
   "cell_type": "markdown",
   "id": "0e454146",
   "metadata": {},
   "source": [
    "<a name=\"1.2\"></a>\n",
    "### 1.2 Computing centroid means\n",
    "\n",
    "Given assignments of every point to a centroid, the second phase of the\n",
    "algorithm recomputes, for each centroid, the mean of the points that\n",
    "were assigned to it.\n",
    "\n",
    "\n",
    "* Specifically, for every centroid $\\mu_k$ I am going to set\n",
    "$$\\mu_k = \\frac{1}{|C_k|} \\sum_{i \\in C_k} x^{(i)}$$ \n",
    "\n",
    "    where \n",
    "    * $C_k$ is the set of examples that are assigned to centroid $k$\n",
    "    * $|C_k|$ is the number of examples in the set $C_k$\n",
    "\n",
    "\n",
    "* Concretely, if two examples say $x^{(3)}$ and $x^{(5)}$ are assigned to centroid $k=2$,\n",
    "then you should update $\\mu_2 = \\frac{1}{2}(x^{(3)}+x^{(5)})$."
   ]
  },
  {
   "cell_type": "code",
   "execution_count": null,
   "id": "80d399cf",
   "metadata": {},
   "outputs": [],
   "source": [
    "def compute_centroids(X, idx, K):\n",
    "    \"\"\"\n",
    "    Returns the new centroids by computing the means of the \n",
    "    data points assigned to each centroid.\n",
    "    \n",
    "    Args:\n",
    "        X (ndarray):   (m, n) Data points\n",
    "        idx (ndarray): (m,) Array containing index of closest centroid for each \n",
    "                       example in X. Concretely, idx[i] contains the index of \n",
    "                       the centroid closest to example i\n",
    "        K (int):       number of centroids\n",
    "    \n",
    "    Returns:\n",
    "        centroids (ndarray): (K, n) New centroids computed\n",
    "    \"\"\"\n",
    "    \n",
    "    m, n = X.shape\n",
    "    \n",
    "    centroids = np.zeros((K, n))\n",
    "    \n",
    "    for k in range(K):\n",
    "        points = X[idx == k]\n",
    "        centroids[k] = np.mean(points, axis = 0)    \n",
    "    return centroids"
   ]
  },
  {
   "cell_type": "markdown",
   "id": "2c51e09a",
   "metadata": {},
   "source": [
    "<a name=\"1.3\"></a>\n",
    "### 1.3 Running KMeans on an Artificial Dataset"
   ]
  },
  {
   "cell_type": "code",
   "execution_count": null,
   "id": "2a7e3386",
   "metadata": {},
   "outputs": [],
   "source": [
    "def run_kMeans(X, initial_centroids, max_iters=10):\n",
    "    \"\"\"\n",
    "    Runs the K-Means algorithm on data matrix X, where each row of X\n",
    "    is a single example\n",
    "    \"\"\"\n",
    "    \n",
    "    # Initialize values\n",
    "    m, n = X.shape\n",
    "    K = initial_centroids.shape[0]\n",
    "    centroids = initial_centroids\n",
    "    previous_centroids = centroids    \n",
    "    idx = np.zeros(m)\n",
    "    plt.figure(figsize=(8, 6))\n",
    "\n",
    "    # Run K-Means\n",
    "    for i in range(max_iters):\n",
    "        \n",
    "        #Output progress\n",
    "        print(\"K-Means iteration %d/%d\" % (i, max_iters-1))\n",
    "        \n",
    "        # For each example in X, assign it to the closest centroid\n",
    "        idx = find_closest_centroids(X, centroids)\n",
    "            \n",
    "        # Given the memberships, compute new centroids\n",
    "        centroids = compute_centroids(X, idx, K)\n",
    "    plt.show() \n",
    "    return centroids, idx"
   ]
  },
  {
   "cell_type": "code",
   "execution_count": null,
   "id": "5fb97f7c",
   "metadata": {
    "scrolled": false
   },
   "outputs": [],
   "source": [
    "# Load an example dataset\n",
    "points = make_blobs(n_samples=200, n_features=2, cluster_std=1.8, centers=4 ,random_state=101, return_centers=True)\n",
    "X = points[0]\n",
    "\n",
    "# Set initial centroids\n",
    "initial_centroids = np.array([[3,3],[6,2],[8,5],[1,1]])\n",
    "\n",
    "# Number of iterations\n",
    "max_iters = 10\n",
    "\n",
    "# Run K-Means\n",
    "centroids, idx = run_kMeans(X, initial_centroids, max_iters)"
   ]
  },
  {
   "cell_type": "code",
   "execution_count": null,
   "id": "7e515ba9",
   "metadata": {},
   "outputs": [],
   "source": [
    "points"
   ]
  },
  {
   "cell_type": "code",
   "execution_count": null,
   "id": "50c1afa3",
   "metadata": {},
   "outputs": [],
   "source": [
    "centroids"
   ]
  },
  {
   "cell_type": "code",
   "execution_count": null,
   "id": "36872b98",
   "metadata": {},
   "outputs": [],
   "source": [
    "idx"
   ]
  },
  {
   "cell_type": "code",
   "execution_count": null,
   "id": "4eef84ac",
   "metadata": {},
   "outputs": [],
   "source": [
    "sns.set_style('darkgrid')"
   ]
  },
  {
   "cell_type": "code",
   "execution_count": null,
   "id": "afe6500e",
   "metadata": {
    "scrolled": true
   },
   "outputs": [],
   "source": [
    "fig, (axes1, axes2) = plt.subplots(1, 2, sharex=True, figsize=(12,5))\n",
    "fig.suptitle('Comparison')\n",
    "axes1.set_title('Original')\n",
    "axes2.set_title('KMeans')\n",
    "\n",
    "axes1.scatter(x=X[:,0], y=X[:,1], c=points[1], cmap='rainbow')\n",
    "axes2.scatter(x=X[:,0], y=X[:,1], c=idx, cmap='rainbow')\n",
    "\n",
    "axes1.scatter(x=points[2][:,0], y=points[2][:,1], c='black', marker='X')\n",
    "axes2.scatter(x=centroids[:,0], y=centroids[:,1], c='black', marker='X')"
   ]
  },
  {
   "cell_type": "markdown",
   "id": "d4f86fa0",
   "metadata": {},
   "source": [
    "2 - Random initialization\n",
    "The initial assignments of centroids for the example dataset was designed. \n",
    "\n",
    "The code first randomly shuffles the indices of the examples (using np.random.permutation()).\n",
    "Then, it selects the first  𝐾\n",
    "  examples based on the random permutation of the indices.\n",
    "This allows the examples to be selected at random without the risk of selecting the same example twice."
   ]
  },
  {
   "cell_type": "code",
   "execution_count": null,
   "id": "7484d9b5",
   "metadata": {},
   "outputs": [],
   "source": [
    "def kMeans_init_centroids(X, K):\n",
    "    \"\"\"\n",
    "    This function initializes K centroids that are to be \n",
    "    used in K-Means on the dataset X\n",
    "    \n",
    "    Args:\n",
    "        X (ndarray): Data points \n",
    "        K (int):     number of centroids/clusters\n",
    "    \n",
    "    Returns:\n",
    "        centroids (ndarray): Initialized centroids\n",
    "    \"\"\"\n",
    "    \n",
    "    # Randomly reorder the indices of examples\n",
    "    randidx = np.random.permutation(X.shape[0])\n",
    "    \n",
    "    # Take the first K examples as centroids\n",
    "    centroids = X[randidx[:K]]\n",
    "    \n",
    "    return centroids"
   ]
  },
  {
   "cell_type": "markdown",
   "id": "53653b3c",
   "metadata": {},
   "source": [
    "<a name=\"2\"></a>\n",
    "## 3 - Image compression with K-means\n",
    "\n",
    "Here, I will apply K-means to image compression. \n",
    "\n",
    "* In a straightforward 24-bit color representation of an image, each pixel is represented as three 8-bit unsigned integers (ranging from 0 to 255) that specify the red, green and blue intensity values. This encoding is often refered to as the RGB encoding.\n",
    "* My image contains thousands of colors, and in this part, I will reduce the number of\n",
    "colors to 16 colors.\n",
    "* By making this reduction, it is possible to represent (compress) the photo in an efficient way. \n",
    "* Specifically, I only need to store the RGB values of the 16 selected colors, and for each pixel in the image I now need to only store the index of the color at that location (where only 4 bits are necessary to represent 16 possibilities).\n",
    "\n",
    "In this part, I will use the K-means algorithm to select the 16 colors that will be used to represent the compressed image.\n",
    "* Concretely, I will treat every pixel in the original image as a data example and use the K-means algorithm to find the 16 colors that best group (cluster) the pixels in the 3- dimensional RGB space.\n",
    "* Once I have computed the cluster centroids on the image, I will then use the 16 colors to replace the pixels in the original image.\n",
    "\n",
    "<a name=\"2.1\"></a>\n",
    "### 3.1 Dataset\n",
    "\n",
    "**Load image**"
   ]
  },
  {
   "cell_type": "code",
   "execution_count": null,
   "id": "81584179",
   "metadata": {},
   "outputs": [],
   "source": [
    "# Load an image of a bird\n",
    "original_img = plt.imread('image_color.jpg')"
   ]
  },
  {
   "cell_type": "code",
   "execution_count": null,
   "id": "f0a90071",
   "metadata": {},
   "outputs": [],
   "source": [
    "# Visualizing the image\n",
    "plt.imshow(original_img)"
   ]
  },
  {
   "cell_type": "code",
   "execution_count": null,
   "id": "e86883b6",
   "metadata": {},
   "outputs": [],
   "source": [
    "print(\"Shape of original_img is:\", original_img.shape)"
   ]
  },
  {
   "cell_type": "code",
   "execution_count": null,
   "id": "64d561b5",
   "metadata": {},
   "outputs": [],
   "source": [
    "# Divide by 255 so that all values are in the range 0 - 1 (not needed for PNG files)\n",
    "original_img = original_img / 255\n",
    "\n",
    "# Reshape the image into an m x 3 matrix where m = number of pixels\n",
    "# (in this case m = 538 x 538 = 289444)\n",
    "# Each row will contain the Red, Green and Blue pixel values\n",
    "# This gives us our dataset matrix X_img that we will use K-Means on.\n",
    "\n",
    "X_img = np.reshape(original_img, (original_img.shape[0] * original_img.shape[1], 3))"
   ]
  },
  {
   "cell_type": "code",
   "execution_count": null,
   "id": "a928bcdb",
   "metadata": {},
   "outputs": [],
   "source": [
    "plt.imshow(original_img)"
   ]
  },
  {
   "cell_type": "markdown",
   "id": "9d04e3bf",
   "metadata": {},
   "source": [
    "<a name=\"3.2\"></a>\n",
    "### 3.2 K-Means on image pixels\n",
    "\n",
    "Now, I want to run the cell below to run K-Means on the pre-processed image."
   ]
  },
  {
   "cell_type": "code",
   "execution_count": null,
   "id": "b58cc0c8",
   "metadata": {},
   "outputs": [],
   "source": [
    "# Run your K-Means algorithm on this data\n",
    "K = 16\n",
    "max_iters = 10\n",
    "\n",
    "# Using the function I have implemented above. \n",
    "initial_centroids = kMeans_init_centroids(X_img, K)\n",
    "\n",
    "# Run K-Means - this can take a couple of minutes depending on K and max_iters\n",
    "centroids, idx = run_kMeans(X_img, initial_centroids, max_iters)"
   ]
  },
  {
   "cell_type": "code",
   "execution_count": null,
   "id": "0979c05d",
   "metadata": {},
   "outputs": [],
   "source": [
    "print(\"Shape of idx:\", idx.shape)\n",
    "print(\"Closest centroid for the first five elements:\", idx[:5])"
   ]
  },
  {
   "cell_type": "markdown",
   "id": "c0f95fbe",
   "metadata": {},
   "source": [
    "<a name=\"3.3\"></a>\n",
    "### 3.3 Compress the image"
   ]
  },
  {
   "cell_type": "markdown",
   "id": "cac64768",
   "metadata": {},
   "source": [
    "After finding the top $K=16$ colors to represent the image, I can now\n",
    "assign each pixel position to its closest centroid using the\n",
    "`find_closest_centroids` function. \n",
    "* This allows me to represent the original image using the centroid assignments of each pixel. \n",
    "* Notice that I have significantly reduced the number of bits that are required to describe the image. "
   ]
  },
  {
   "cell_type": "code",
   "execution_count": null,
   "id": "2a0a4f04",
   "metadata": {},
   "outputs": [],
   "source": [
    "# Replace each pixel with the color of the closest centroid\n",
    "X_recovered = centroids[idx, :] \n",
    "\n",
    "# Reshape image into proper dimensions\n",
    "X_recovered = np.reshape(X_recovered, original_img.shape) "
   ]
  },
  {
   "cell_type": "markdown",
   "id": "03c7e39f",
   "metadata": {},
   "source": [
    "Finally, I can view the effects of the compression by reconstructing\n",
    "the image based only on the centroid assignments. \n",
    "* Specifically, you replaced each pixel with the value of the centroid assigned to\n",
    "it. "
   ]
  },
  {
   "cell_type": "code",
   "execution_count": null,
   "id": "740f03f8",
   "metadata": {
    "scrolled": true
   },
   "outputs": [],
   "source": [
    "# Display original image\n",
    "fig, ax = plt.subplots(1,2, figsize=(16,16))\n",
    "plt.axis('off')\n",
    "\n",
    "ax[0].imshow(original_img)\n",
    "ax[0].set_title('Original')\n",
    "ax[0].set_axis_off()\n",
    "\n",
    "\n",
    "# Display compressed image\n",
    "ax[1].imshow(X_recovered)\n",
    "ax[1].set_title('Compressed with %d colours'%K)\n",
    "ax[1].set_axis_off()"
   ]
  },
  {
   "cell_type": "code",
   "execution_count": null,
   "id": "26210295",
   "metadata": {},
   "outputs": [],
   "source": []
  }
 ],
 "metadata": {
  "kernelspec": {
   "display_name": "Python 3 (ipykernel)",
   "language": "python",
   "name": "python3"
  },
  "language_info": {
   "codemirror_mode": {
    "name": "ipython",
    "version": 3
   },
   "file_extension": ".py",
   "mimetype": "text/x-python",
   "name": "python",
   "nbconvert_exporter": "python",
   "pygments_lexer": "ipython3",
   "version": "3.10.9"
  }
 },
 "nbformat": 4,
 "nbformat_minor": 5
}
